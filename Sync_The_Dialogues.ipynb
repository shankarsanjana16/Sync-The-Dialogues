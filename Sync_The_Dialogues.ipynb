{
  "nbformat": 4,
  "nbformat_minor": 0,
  "metadata": {
    "colab": {
      "provenance": []
    },
    "kernelspec": {
      "name": "python3",
      "display_name": "Python 3"
    },
    "language_info": {
      "name": "python"
    }
  },
  "cells": [
    {
      "cell_type": "markdown",
      "source": [
        "# ***Problem:***\n",
        "The .srt file containing the dialogues for the movie \"Rosemary's Baby\" have dialogues that do not properly sync with the movie video. This notebook contains codes in python that can help solve this issue."
      ],
      "metadata": {
        "id": "i80FagV8-75Q"
      }
    },
    {
      "cell_type": "code",
      "source": [
        "# importing all the necessary libraries\n",
        "from datetime import datetime, timedelta\n",
        "from google.colab import files\n",
        "import pandas as pd"
      ],
      "metadata": {
        "id": "4JyjSWlUz9Td"
      },
      "execution_count": null,
      "outputs": []
    },
    {
      "cell_type": "code",
      "source": [
        "# reading the .csv file\n",
        "dialogues = pd.read_csv('old_dialogues.csv', names=['old_dialogue_column'], header=None)"
      ],
      "metadata": {
        "id": "h7VYRkJMAgCN"
      },
      "execution_count": null,
      "outputs": []
    },
    {
      "cell_type": "code",
      "execution_count": null,
      "metadata": {
        "id": "ImPRgzzU-J-L"
      },
      "outputs": [],
      "source": [
        "# displaying the details of the DataFrame\n",
        "dialogues.info()"
      ]
    },
    {
      "cell_type": "code",
      "source": [
        "# displaying the contents of the DataFrame\n",
        "dialogues"
      ],
      "metadata": {
        "id": "eaQQMlV19Z8C"
      },
      "execution_count": null,
      "outputs": []
    },
    {
      "cell_type": "code",
      "source": [
        "# finding the number of null/NaN values (if any)\n",
        "dialogues.isnull().sum()"
      ],
      "metadata": {
        "id": "x5ErwIGg9a0E"
      },
      "execution_count": null,
      "outputs": []
    },
    {
      "cell_type": "code",
      "source": [
        "'''\n",
        "Function Name: no_letters\n",
        "Description: To check if the given text does not contain any letters\n",
        "Parameters:\n",
        "        text: The text to be checked\n",
        "Returns:\n",
        "        True if the text does not contain any letters, False otherwise\n",
        "'''\n",
        "def no_letters(text):\n",
        "    for x in text:\n",
        "        if x.isalpha(): return False\n",
        "    return True"
      ],
      "metadata": {
        "id": "BsMrDCMC6JCk"
      },
      "execution_count": null,
      "outputs": []
    },
    {
      "cell_type": "markdown",
      "source": [
        "# ***Some important observations before implementation:***\n",
        "\n",
        "* The time stamps in the movie are represented as {\"start-time\" --> \"end-time\"}.\n",
        "\n",
        "* Hence, we search for entries where '-->' is present, excluding any letters (a safe way to avoid dialogues).\n",
        "\n",
        "* We also know the position indices for the timestamps, as the format for the timestamps is fixed.\n",
        "\n",
        "            Format:\n",
        "                        HH:MM:SS,sss --> HH:MM:SS,sss\n",
        "            \n",
        "            Where:            \n",
        "                H - Hours\n",
        "                M - Minutes\n",
        "                S - Seconds\n",
        "                s - Milliseconds\n",
        "\n",
        "* We also know that the delay in the syncing of the dialogues and the movie video is by 20 seconds."
      ],
      "metadata": {
        "id": "i42r0DgzByT-"
      }
    },
    {
      "cell_type": "code",
      "source": [
        "for x in range(len(dialogues)):\n",
        "\n",
        "    # checking if the row entry contains the timestamps or not\n",
        "    if '-->' in dialogues.loc[x, 'old_dialogue_column'] and no_letters(dialogues.loc[x, 'old_dialogue_column']):\n",
        "\n",
        "        # extracting the start & end timestamps from the entry\n",
        "        diag_time1 = datetime.strptime(dialogues.loc[x, 'old_dialogue_column'][:8], '%H:%M:%S')\n",
        "        diag_time2 = datetime.strptime(dialogues.loc[x, 'old_dialogue_column'][17:25], '%H:%M:%S')\n",
        "\n",
        "        # the dialogues in the subtitles script is delayed by 20 seconds, so duration = 20 seconds\n",
        "        duration = timedelta(seconds=20)\n",
        "\n",
        "        # adding the delay shift to the actual timestamps\n",
        "        new_time1 = str((diag_time1 + duration).time())\n",
        "        new_time2 = str((diag_time2 + duration).time())\n",
        "\n",
        "        # adding the new timestamps to a new column\n",
        "        dialogues.loc[x, 'new_dialogue_column'] = new_time1 + dialogues.loc[x, 'old_dialogue_column'][8:17]\\\n",
        "                                                + new_time2 + dialogues.loc[x, 'old_dialogue_column'][25:]\n",
        "    else:\n",
        "        # incase of a non-timestamp entry, we keep the values as it is in the new column\n",
        "        dialogues.loc[x, 'new_dialogue_column'] = dialogues.loc[x, 'old_dialogue_column']"
      ],
      "metadata": {
        "id": "9hVy-6dP0hjG"
      },
      "execution_count": null,
      "outputs": []
    },
    {
      "cell_type": "code",
      "source": [
        "del dialogues['old_dialogue_column'] # deleting the original column"
      ],
      "metadata": {
        "id": "wox2S3gA9iJb"
      },
      "execution_count": null,
      "outputs": []
    },
    {
      "cell_type": "code",
      "source": [
        "# converting the modified DataFrame to a .csv file\n",
        "dialogues.to_csv('new_dialogues.csv')\n",
        "\n",
        "# downloading the new & in-sync dialogues file\n",
        "files.download('new_dialogues.csv')"
      ],
      "metadata": {
        "id": "hmDEBDmZ8J3o"
      },
      "execution_count": null,
      "outputs": []
    }
  ]
}